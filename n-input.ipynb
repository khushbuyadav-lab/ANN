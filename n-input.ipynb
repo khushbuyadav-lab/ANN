{
  "nbformat": 4,
  "nbformat_minor": 0,
  "metadata": {
    "colab": {
      "provenance": [],
      "authorship_tag": "ABX9TyMzKmDzwEQ0x3VUg4FsIzpf",
      "include_colab_link": true
    },
    "kernelspec": {
      "name": "python3",
      "display_name": "Python 3"
    },
    "language_info": {
      "name": "python"
    }
  },
  "cells": [
    {
      "cell_type": "markdown",
      "metadata": {
        "id": "view-in-github",
        "colab_type": "text"
      },
      "source": [
        "<a href=\"https://colab.research.google.com/github/khushbuyadav-lab/ANN/blob/main/n-input.ipynb\" target=\"_parent\"><img src=\"https://colab.research.google.com/assets/colab-badge.svg\" alt=\"Open In Colab\"/></a>"
      ]
    },
    {
      "cell_type": "code",
      "execution_count": 14,
      "metadata": {
        "colab": {
          "base_uri": "https://localhost:8080/"
        },
        "id": "bMJQoNyD_55F",
        "outputId": "61e354c8-7204-4508-8181-19d47171110b"
      },
      "outputs": [
        {
          "output_type": "stream",
          "name": "stdout",
          "text": [
            "\n",
            "Training 3-input AND Gate\n",
            "Initial weights: [0.00695213 0.5107473  0.417411  ], Initial bias: 0.2221\n",
            "Converged after 7 epochs\n",
            "Final Weights: [0.30695213 0.1107473  0.117411  ], Final Bias: -0.4779\n",
            "Final Accuracy: 100.00%\n",
            "\n",
            "Training 3-input OR Gate\n",
            "Initial weights: [0.11986537 0.33761517 0.9429097 ], Initial bias: 0.3232\n",
            "Converged after 5 epochs\n",
            "Final Weights: [0.11986537 0.33761517 0.9429097 ], Final Bias: -0.0768\n",
            "Final Accuracy: 100.00%\n",
            "\n",
            "Training 4-input AND Gate\n",
            "Initial weights: [0.51879062 0.70301896 0.3636296  0.97178208], Initial bias: 0.9624\n",
            "Converged after 5 epochs\n",
            "Final Weights: [0.21879062 0.10301896 0.0636296  0.17178208], Final Bias: -0.5376\n",
            "Final Accuracy: 100.00%\n",
            "\n",
            "Training 4-input OR Gate\n",
            "Initial weights: [0.2517823  0.49724851 0.30087831 0.28484049], Initial bias: 0.0369\n",
            "Converged after 2 epochs\n",
            "Final Weights: [0.2517823  0.49724851 0.30087831 0.28484049], Final Bias: -0.0631\n",
            "Final Accuracy: 100.00%\n"
          ]
        }
      ],
      "source": [
        "\n",
        "import numpy as np\n",
        "from itertools import product\n",
        "\n",
        "class Perceptron:\n",
        "    def __init__(self, learning_rate=0.1, n_epochs=100):\n",
        "        self.learning_rate = learning_rate\n",
        "        self.n_epochs = n_epochs\n",
        "        self.weights = None\n",
        "        self.bias = None\n",
        "\n",
        "    def step_function(self, x):\n",
        "        return 1 if x >= 0 else 0\n",
        "\n",
        "    def predict(self, X):\n",
        "        weighted_sum = np.dot(X, self.weights) + self.bias\n",
        "        return np.array([self.step_function(x) for x in weighted_sum])\n",
        "\n",
        "    def train(self, X, y, gate_name, n_inputs):\n",
        "        n_samples, n_features = X.shape\n",
        "        self.weights = np.random.rand(n_features)\n",
        "        self.bias = np.random.rand()\n",
        "\n",
        "        print(f\"\\nTraining {n_inputs}-input {gate_name} Gate\")\n",
        "        print(f\"Initial weights: {self.weights}, Initial bias: {self.bias:.4f}\")\n",
        "\n",
        "        for epoch in range(self.n_epochs):\n",
        "            error_count = 0\n",
        "            for i in range(n_samples):\n",
        "                weighted_sum = np.dot(X[i], self.weights) + self.bias\n",
        "                prediction = self.step_function(weighted_sum)\n",
        "                error = y[i] - prediction\n",
        "\n",
        "                if error != 0:\n",
        "                    error_count += 1\n",
        "                    self.weights += self.learning_rate * error * X[i]\n",
        "                    self.bias += self.learning_rate * error\n",
        "\n",
        "            if error_count == 0:\n",
        "                print(f\"Converged after {epoch + 1} epochs\")\n",
        "                break\n",
        "\n",
        "        # Calculate and display accuracy\n",
        "        predictions = self.predict(X)\n",
        "        accuracy = np.mean(predictions == y) * 100\n",
        "        print(f\"Final Weights: {self.weights}, Final Bias: {self.bias:.4f}\")\n",
        "        print(f\"Final Accuracy: {accuracy:.2f}%\")\n",
        "\n",
        "def generate_truth_table(n_inputs, gate_type):\n",
        "    X = np.array(list(product([0, 1], repeat=n_inputs)))\n",
        "    if gate_type == \"AND\":\n",
        "        y = np.array([1 if np.all(x) else 0 for x in X])\n",
        "    elif gate_type == \"OR\":\n",
        "        y = np.array([1 if np.any(x) else 0 for x in X])\n",
        "    return X, y\n",
        "\n",
        "# Test for n=3 and n=4\n",
        "for n_inputs in [3, 4]:\n",
        "    # Generate truth tables\n",
        "    X_and, y_and = generate_truth_table(n_inputs, \"AND\")\n",
        "    X_or, y_or = generate_truth_table(n_inputs, \"OR\")\n",
        "\n",
        "    # Train Perceptron for AND gate\n",
        "    and_perceptron = Perceptron(learning_rate=0.1, n_epochs=100)\n",
        "    and_perceptron.train(X_and, y_and, \"AND\", n_inputs)\n",
        "\n",
        "    # Train Perceptron for OR gate\n",
        "    or_perceptron = Perceptron(learning_rate=0.1, n_epochs=100)\n",
        "    or_perceptron.train(X_or, y_or, \"OR\", n_inputs)"
      ]
    }
  ]
}